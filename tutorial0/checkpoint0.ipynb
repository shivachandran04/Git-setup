{
 "cells": [
  {
   "cell_type": "markdown",
   "metadata": {
    "colab_type": "text",
    "id": "0a8IYAJUshu1"
   },
   "source": [
    "# Checkpoint 0 "
   ]
  },
  {
   "cell_type": "markdown",
   "metadata": {},
   "source": [
    "These exercises are a mix of Python and Pandas practice. Most should be no more than a few lines of code! "
   ]
  },
  {
   "cell_type": "code",
   "execution_count": null,
   "metadata": {
    "colab": {},
    "colab_type": "code",
    "id": "Jo6wuTgkshu1"
   },
   "outputs": [],
   "source": [
    "# here is a Python list:\n",
    "\n",
    "a = [1, 2, 3, 4, 5, 6]\n"
   ]
  },
  {
   "cell_type": "code",
   "execution_count": null,
   "id": "779d96b1",
   "metadata": {},
   "outputs": [],
   "source": [
    "# get a list containing the last 3 elements of a\n",
    "# Yes, you can just type out [4, 5, 6] but we really want to see you demonstrate you know how to use list slicing in Python\n",
    "list1 = a[3:6]"
   ]
  },
  {
   "cell_type": "code",
   "execution_count": null,
   "id": "b6a54def",
   "metadata": {},
   "outputs": [],
   "source": [
    "# create a list of numbers from 1 to 20\n",
    "list2 = list(range(1,21))"
   ]
  },
  {
   "cell_type": "code",
   "execution_count": null,
   "id": "487873ac",
   "metadata": {},
   "outputs": [],
   "source": [
    "# now get a list with only the even numbers between 1 and 100\n",
    "# you may or may not make use of the list you made in the last cell\n",
    "list3 = list(range(2,101))\n",
    "list3 = list3[::2]"
   ]
  },
  {
   "cell_type": "code",
   "execution_count": null,
   "id": "3d4bb5dd",
   "metadata": {},
   "outputs": [],
   "source": [
    "# write a function that takes two numbers as arguments\n",
    "# and returns the first number divided by the second\n",
    "def division(num1, num2):\n",
    "    return num1 / num2"
   ]
  },
  {
   "cell_type": "code",
   "execution_count": null,
   "id": "b93669fa",
   "metadata": {},
   "outputs": [],
   "source": [
    "# write a function that takes a string as input\n",
    "# and return that string in all caps\n",
    "def toUpper(str):\n",
    "    return str.upper()"
   ]
  },
  {
   "cell_type": "code",
   "execution_count": null,
   "id": "f55df04e",
   "metadata": {},
   "outputs": [],
   "source": [
    "# fizzbuzz\n",
    "# you will need to use both iteration and control flow \n",
    "# go through all numbers from 1 to 30 in order\n",
    "# if the number is a multiple of 3, print fizz\n",
    "# if the number is a multiple of 5, print buzz\n",
    "# if the number is a multiple of 3 and 5, print fizzbuzz and NOTHING ELSE\n",
    "# if the number is neither a multiple of 3 nor a multiple of 5, print the number\n",
    "for num in range(1, 31):\n",
    "    if num % 3 == 0 and num % 5 == 0:\n",
    "        print(\"fizzbuzz\")\n",
    "    elif num % 3 == 0:\n",
    "        print(\"fizz\")\n",
    "    elif num % 5 == 0:\n",
    "        print(\"buzz\")\n",
    "    else:\n",
    "        print(num)"
   ]
  },
  {
   "cell_type": "code",
   "execution_count": null,
   "id": "78aace0b",
   "metadata": {},
   "outputs": [],
   "source": [
    "# create a dictionary that reflects the following menu pricing (taken from Ahmo's)\n",
    "# Gyro: $9 \n",
    "# Burger: $9\n",
    "# Greek Salad: $8\n",
    "# Philly Steak: $10\n",
    "dict1 = {\"Gyro\":9, \"Burger\":9, \"Greek Salad\":8, \"Philly Steak\":10}"
   ]
  },
  {
   "cell_type": "code",
   "execution_count": null,
   "metadata": {
    "colab": {},
    "colab_type": "code",
    "id": "WzCQ5HOJshvA"
   },
   "outputs": [],
   "source": [
    "# load in the \"starbucks.csv\" dataset\n",
    "# refer to how we read the cereal.csv dataset in the tutorial\n",
    "import pandas as pd\n",
    "df = pd.read_csv(\"../data/starbucks.csv\")"
   ]
  },
  {
   "cell_type": "code",
   "execution_count": null,
   "id": "68210b5f",
   "metadata": {},
   "outputs": [],
   "source": [
    "# output the calories, sugars, and protein columns only of every 40th row. \n",
    "df.iloc[::40,[3, 11, 12]]"
   ]
  },
  {
   "cell_type": "code",
   "execution_count": null,
   "id": "ac0f0c12",
   "metadata": {},
   "outputs": [],
   "source": [
    "# select all rows with more than and including 400 calories\n",
    "df[df[\"calories\"] >= 400]"
   ]
  },
  {
   "cell_type": "code",
   "execution_count": null,
   "id": "ee8f8241",
   "metadata": {},
   "outputs": [],
   "source": [
    "# select all rows whose vitamin c content is higher than the iron content\n",
    "df[df[\"vitamin c\"] > df[\"iron\"]]\n"
   ]
  },
  {
   "cell_type": "code",
   "execution_count": null,
   "id": "d4de48bb",
   "metadata": {},
   "outputs": [],
   "source": [
    "# create a new column containing the caffeine per calories of each drink\n",
    "df[\"caffeine_per_calories\"] = df[\"caffeine\"] / df[\"calories\"]\n",
    "df.head()"
   ]
  },
  {
   "cell_type": "code",
   "execution_count": null,
   "metadata": {
    "colab": {},
    "colab_type": "code",
    "id": "rIoxaSxHshvB"
   },
   "outputs": [],
   "source": [
    "# what is the average calorie across all items?\n",
    "df[\"calories\"].mean()\n"
   ]
  },
  {
   "cell_type": "code",
   "execution_count": null,
   "metadata": {
    "colab": {},
    "colab_type": "code",
    "id": "ABX7i49FshvD"
   },
   "outputs": [],
   "source": [
    "# how many different categories of beverages are there?\n",
    "print(df[\"beverage_category\"].nunique())\n"
   ]
  },
  {
   "cell_type": "code",
   "execution_count": null,
   "metadata": {
    "colab": {},
    "colab_type": "code",
    "id": "P9QatZAzshvE"
   },
   "outputs": [],
   "source": [
    "# what is the average # calories for each beverage category?\n",
    "bvgcat = df.groupby(\"beverage_category\")\n",
    "bvgcat[\"calories\"].mean()"
   ]
  },
  {
   "cell_type": "code",
   "execution_count": null,
   "metadata": {},
   "outputs": [],
   "source": [
    "# plot the distribution of the number of calories in drinks with a histogram\n",
    "df[\"calories\"].plot.hist(edgecolor='black', alpha=0.8, title=\"Calorie Content Distrbution\")\n"
   ]
  },
  {
   "cell_type": "code",
   "execution_count": null,
   "metadata": {},
   "outputs": [],
   "source": [
    "# plot calories against total fat with a scatterplot\n",
    "df.plot.scatter(x=\"calories\", y=\"total fat\", title=\"Calories vs Total Fat\")"
   ]
  }
 ],
 "metadata": {
  "kernelspec": {
   "display_name": "Python 3.9.0 64-bit",
   "language": "python",
   "name": "python3"
  },
  "language_info": {
   "codemirror_mode": {
    "name": "ipython",
    "version": 3
   },
   "file_extension": ".py",
   "mimetype": "text/x-python",
   "name": "python",
   "nbconvert_exporter": "python",
   "pygments_lexer": "ipython3",
   "version": "3.9.0"
  },
  "vscode": {
   "interpreter": {
    "hash": "6cf8df3ff69f85f626faf55c10df6fe2cb9d1236b4dc73844ee4dc01369c2c99"
   }
  }
 },
 "nbformat": 4,
 "nbformat_minor": 5
}
